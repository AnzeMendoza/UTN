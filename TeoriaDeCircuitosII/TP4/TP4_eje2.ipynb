{
 "cells": [
  {
   "cell_type": "code",
   "execution_count": 1,
   "metadata": {},
   "outputs": [],
   "source": [
    "#%matplotlib qt5\n",
    "import sys\n",
    "sys.path.append('../TP2/code')\n",
    "import scipy.signal as sig\n",
    "import numpy as np\n",
    "import matplotlib.pyplot as plt\n",
    "import control as ctl\n",
    "from splane import pzmap, grpDelay, bodePlot, convert2SOS, pretty, epsilonButter"
   ]
  },
  {
   "cell_type": "markdown",
   "metadata": {},
   "source": [
    "# Problema 2\n",
    "\n",
    "<img src=\"imagenes/problema_03.png\" />"
   ]
  },
  {
   "cell_type": "markdown",
   "metadata": {},
   "source": [
    "## a) $F_s = 100KHz$"
   ]
  },
  {
   "cell_type": "code",
   "execution_count": 13,
   "metadata": {},
   "outputs": [
    {
     "data": {
      "text/plain": [
       "'filtro butter de segundo orden:  '"
      ]
     },
     "metadata": {},
     "output_type": "display_data"
    },
    {
     "name": "stdout",
     "output_type": "stream",
     "text": [
      "                   39478417.604 s^0\n",
      "T(s) = -----------------------------------------\n",
      "       1.0 s^2 + 8885.766 s^1 + 39478417.604 s^0\n"
     ]
    },
    {
     "data": {
      "text/plain": [
       "'filtro digital de segundo orden: '"
      ]
     },
     "metadata": {},
     "output_type": "display_data"
    },
    {
     "name": "stdout",
     "output_type": "stream",
     "text": [
      "       0.001 s^2 + 0.002 s^1 + 0.001 s^0\n",
      "T(s) = ---------------------------------\n",
      "       1.0 s^2 + -1.911 s^1 + 0.915 s^0\n"
     ]
    }
   ],
   "source": [
    "%matplotlib qt5\n",
    "f_s = 100e3\n",
    "f_c = 1e3\n",
    "num, den = sig.butter(2, 2*np.pi*f_c, 'low', analog=True)\n",
    "H_s = sig.TransferFunction(num, den)\n",
    "display('filtro butter de segundo orden:  ')\n",
    "pretty(H_s)\n",
    "H_z_d = sig.bilinear(H_s.num, H_s.den, f_s)\n",
    "H_z = sig.TransferFunction(H_z_d[0],H_z_d[1],dt=1/f_s)\n",
    "display( 'filtro digital de segundo orden: ')\n",
    "pretty(H_z)\n",
    "bodePlot(H_s) #analogico\n",
    "bodePlot(H_z) #digital\n",
    "pzmap(H_z)"
   ]
  },
  {
   "cell_type": "markdown",
   "metadata": {},
   "source": [
    "## a) $F_s = 10KHz$"
   ]
  },
  {
   "cell_type": "code",
   "execution_count": 11,
   "metadata": {},
   "outputs": [
    {
     "data": {
      "text/plain": [
       "'filtro butter de segundo orden: '"
      ]
     },
     "metadata": {},
     "output_type": "display_data"
    },
    {
     "name": "stdout",
     "output_type": "stream",
     "text": [
      "                   39478417.604 s^0\n",
      "T(s) = -----------------------------------------\n",
      "       1.0 s^2 + 8885.766 s^1 + 39478417.604 s^0\n"
     ]
    },
    {
     "data": {
      "text/plain": [
       "'filtro digital de segundo orden: '"
      ]
     },
     "metadata": {},
     "output_type": "display_data"
    },
    {
     "name": "stdout",
     "output_type": "stream",
     "text": [
      "       0.064 s^2 + 0.128 s^1 + 0.064 s^0\n",
      "T(s) = ---------------------------------\n",
      "       1.0 s^2 + -1.168 s^1 + 0.424 s^0\n"
     ]
    }
   ],
   "source": [
    "%matplotlib qt5\n",
    "f_s = 10e3\n",
    "f_c = 1e3\n",
    "num, den = sig.butter(2, 2*np.pi*f_c, 'low', analog=True)\n",
    "H_s = sig.TransferFunction(num, den)\n",
    "display('filtro butter de segundo orden: ')\n",
    "pretty(H_s)\n",
    "H_z_d = sig.bilinear(H_s.num, H_s.den, f_s)\n",
    "H_z = sig.TransferFunction(H_z_d[0],H_z_d[1],dt=1/f_s)\n",
    "display( 'filtro digital de segundo orden: ')\n",
    "pretty(H_z)\n",
    "bodePlot(H_s)\n",
    "bodePlot(H_z)\n",
    "#pzmap(H_z)"
   ]
  },
  {
   "cell_type": "code",
   "execution_count": null,
   "metadata": {},
   "outputs": [],
   "source": []
  }
 ],
 "metadata": {
  "kernelspec": {
   "display_name": "Python 3",
   "language": "python",
   "name": "python3"
  },
  "language_info": {
   "codemirror_mode": {
    "name": "ipython",
    "version": 3
   },
   "file_extension": ".py",
   "mimetype": "text/x-python",
   "name": "python",
   "nbconvert_exporter": "python",
   "pygments_lexer": "ipython3",
   "version": "3.6.7"
  }
 },
 "nbformat": 4,
 "nbformat_minor": 2
}
