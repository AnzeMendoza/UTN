{
 "cells": [
  {
   "cell_type": "code",
   "execution_count": 1,
   "metadata": {},
   "outputs": [],
   "source": [
    "#%matplotlib qt5\n",
    "import scipy.signal as sig\n",
    "import numpy as np\n",
    "import matplotlib.pyplot as plt\n",
    "from matplotlib import cm\n",
    "from splane import pzmap, grpDelay, bodePlot, convert2SOS, pretty, epsilonButter"
   ]
  },
  {
   "cell_type": "markdown",
   "metadata": {},
   "source": [
    "# Problema #01\n",
    "<img src=\"problema_01.png\" />"
   ]
  },
  {
   "cell_type": "code",
   "execution_count": 10,
   "metadata": {},
   "outputs": [
    {
     "name": "stdout",
     "output_type": "stream",
     "text": [
      "                        1000000.0 s^0\n",
      "T(s) = -----------------------------------------------\n",
      "       1.0 s^2 + 1414.213562373095 s^1 + 1000000.0 s^0\n"
     ]
    }
   ],
   "source": [
    "ORDER = 2\n",
    "w0 = 1000\n",
    "\n",
    "P_s, Q_s = sig.butter(ORDER, w0, 'low', analog=True)\n",
    "\n",
    "H_s = sig.TransferFunction(P_s, Q_s)\n",
    "\n",
    "pretty(H_s)\n",
    "bodePlot(H_s)\n",
    "pzmap(H_s)"
   ]
  },
  {
   "cell_type": "markdown",
   "metadata": {},
   "source": [
    "# Problema #02\n",
    "<img src=\"problema_02.png\" />"
   ]
  },
  {
   "cell_type": "code",
   "execution_count": 7,
   "metadata": {},
   "outputs": [
    {
     "name": "stdout",
     "output_type": "stream",
     "text": [
      "orden del filtro:  11\n",
      "epsilon:  0.06793960758199302\n"
     ]
    }
   ],
   "source": [
    "%matplotlib qt5\n",
    "wp = 1\n",
    "ws = 2.2\n",
    "att_wp = 0.02\n",
    "att_ws = 48\n",
    "\n",
    "ORDER, _ = sig.buttord(wp,ws,att_wp, att_ws, analog = True)\n",
    "print(\"orden del filtro: \",ORDER)\n",
    "print(\"epsilon: \",epsilonButter(att_wp))\n",
    "\n",
    "P_s, Q_s = sig.butter(ORDER, wp, 'low', analog=True)\n",
    "\n",
    "H_s = sig.TransferFunction(P_s, Q_s)\n",
    "\n",
    "#pretty(H_s)\n",
    "bodePlot(H_s)\n",
    "pzmap(H_s)"
   ]
  },
  {
   "cell_type": "markdown",
   "metadata": {},
   "source": [
    "# Problema #03\n",
    "<img src=\"problema_03.png\" />"
   ]
  },
  {
   "cell_type": "code",
   "execution_count": null,
   "metadata": {},
   "outputs": [],
   "source": []
  },
  {
   "cell_type": "code",
   "execution_count": null,
   "metadata": {},
   "outputs": [],
   "source": []
  }
 ],
 "metadata": {
  "kernelspec": {
   "display_name": "Python 3",
   "language": "python",
   "name": "python3"
  },
  "language_info": {
   "codemirror_mode": {
    "name": "ipython",
    "version": 3
   },
   "file_extension": ".py",
   "mimetype": "text/x-python",
   "name": "python",
   "nbconvert_exporter": "python",
   "pygments_lexer": "ipython3",
   "version": "3.6.7"
  }
 },
 "nbformat": 4,
 "nbformat_minor": 2
}
