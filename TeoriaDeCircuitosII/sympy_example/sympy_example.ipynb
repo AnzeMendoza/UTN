{
 "cells": [
  {
   "cell_type": "code",
   "execution_count": 2,
   "metadata": {},
   "outputs": [
    {
     "name": "stdout",
     "output_type": "stream",
     "text": [
      "IPython console for SymPy 1.3 (Python 3.6.7-64-bit) (ground types: gmpy)\n",
      "\n",
      "These commands were executed:\n",
      ">>> from __future__ import division\n",
      ">>> from sympy import *\n",
      ">>> x, y, z, t = symbols('x y z t')\n",
      ">>> k, m, n = symbols('k m n', integer=True)\n",
      ">>> f, g, h = symbols('f g h', cls=Function)\n",
      ">>> init_printing()\n",
      "\n",
      "Documentation can be found at http://docs.sympy.org/1.3/\n",
      "\n"
     ]
    }
   ],
   "source": [
    "from sympy import *\n",
    "init_session()"
   ]
  },
  {
   "cell_type": "code",
   "execution_count": 5,
   "metadata": {},
   "outputs": [
    {
     "data": {
      "image/png": "[encoded data removed]",
      "text/latex": [
       "$$\\frac{1.56104}{\\left(t + 0.494\\right) \\left(t^{2} + 0.493 t + 1\\right)}$$"
      ],
      "text/plain": [
       "           1.56104            \n",
       "──────────────────────────────\n",
       "            ⎛ 2              ⎞\n",
       "(t + 0.494)⋅⎝t  + 0.493⋅t + 1⎠"
      ]
     },
     "metadata": {},
     "output_type": "display_data"
    }
   ],
   "source": [
    "h = (0.494*3.16)/((t+0.494)*(t**2 + 0.493*t +1))\n",
    "display(h)"
   ]
  },
  {
   "cell_type": "code",
   "execution_count": 7,
   "metadata": {},
   "outputs": [
    {
     "data": {
      "image/png": "[encoded data removed]",
      "text/latex": [
       "$$\\frac{1.56104}{\\left(0.494 + \\frac{2.22 \\left(x^{2} + 1\\right)}{x}\\right) \\left(1 + \\frac{1.09446 \\left(x^{2} + 1\\right)}{x} + \\frac{4.9284 \\left(x^{2} + 1\\right)^{2}}{x^{2}}\\right)}$$"
      ],
      "text/plain": [
       "                             1.56104                             \n",
       "─────────────────────────────────────────────────────────────────\n",
       "                        ⎛                                      2⎞\n",
       "⎛             ⎛ 2    ⎞⎞ ⎜            ⎛ 2    ⎞          ⎛ 2    ⎞ ⎟\n",
       "⎜        2.22⋅⎝x  + 1⎠⎟ ⎜    1.09446⋅⎝x  + 1⎠   4.9284⋅⎝x  + 1⎠ ⎟\n",
       "⎜0.494 + ─────────────⎟⋅⎜1 + ──────────────── + ────────────────⎟\n",
       "⎝              x      ⎠ ⎜           x                   2       ⎟\n",
       "                        ⎝                              x        ⎠"
      ]
     },
     "metadata": {},
     "output_type": "display_data"
    }
   ],
   "source": [
    "g = h.replace(t, 2.22*((x**2 + 1)/(x)))\n",
    "display(g)"
   ]
  },
  {
   "cell_type": "code",
   "execution_count": 12,
   "metadata": {},
   "outputs": [
    {
     "data": {
      "image/png": "[encoded data removed]",
      "text/latex": [
       "$$\\frac{0.0647678110650625 x^{3}}{\\left(1.0 x^{2} + 0.222522522522523 x + 1.0\\right) \\left(0.453945914081497 x^{4} + 0.100808709748729 x^{3} + 1.0 x^{2} + 0.100808709748729 x + 0.453945914081497\\right)}$$"
      ],
      "text/plain": [
       "                                                                            3 \n",
       "                                                        0.0647678110650625⋅x  \n",
       "──────────────────────────────────────────────────────────────────────────────\n",
       "⎛     2                            ⎞ ⎛                   4                    \n",
       "⎝1.0⋅x  + 0.222522522522523⋅x + 1.0⎠⋅⎝0.453945914081497⋅x  + 0.100808709748729\n",
       "\n",
       "                                                       \n",
       "                                                       \n",
       "───────────────────────────────────────────────────────\n",
       "  3        2                                          ⎞\n",
       "⋅x  + 1.0⋅x  + 0.100808709748729⋅x + 0.453945914081497⎠"
      ]
     },
     "execution_count": 12,
     "metadata": {},
     "output_type": "execute_result"
    }
   ],
   "source": [
    "g.factor()"
   ]
  },
  {
   "cell_type": "code",
   "execution_count": 13,
   "metadata": {},
   "outputs": [
    {
     "data": {
      "image/png": "[encoded data removed]",
      "text/latex": [
       "$$\\frac{0.0438693923185719 x^{3}}{0.307472663793578 x^{6} + 0.136700684308226 x^{5} + 1.0 x^{4} + 0.287284087704607 x^{3} + 1.0 x^{2} + 0.136700684308226 x + 0.307472663793578}$$"
      ],
      "text/plain": [
       "                                                                        3     \n",
       "                                                    0.0438693923185719⋅x      \n",
       "──────────────────────────────────────────────────────────────────────────────\n",
       "                   6                      5        4                      3   \n",
       "0.307472663793578⋅x  + 0.136700684308226⋅x  + 1.0⋅x  + 0.287284087704607⋅x  + \n",
       "\n",
       "                                                \n",
       "                                                \n",
       "────────────────────────────────────────────────\n",
       "     2                                          \n",
       "1.0⋅x  + 0.136700684308226⋅x + 0.307472663793578"
      ]
     },
     "execution_count": 13,
     "metadata": {},
     "output_type": "execute_result"
    }
   ],
   "source": [
    "apart(g)"
   ]
  },
  {
   "cell_type": "code",
   "execution_count": 14,
   "metadata": {},
   "outputs": [
    {
     "data": {
      "image/png": "[encoded data removed]",
      "text/latex": [
       "$$\\frac{0.0438693923185719 x^{3}}{0.307472663793578 x^{6} + 0.136700684308226 x^{5} + 1.0 x^{4} + 0.287284087704607 x^{3} + 1.0 x^{2} + 0.136700684308226 x + 0.307472663793578}$$"
      ],
      "text/plain": [
       "                                                                        3     \n",
       "                                                    0.0438693923185719⋅x      \n",
       "──────────────────────────────────────────────────────────────────────────────\n",
       "                   6                      5        4                      3   \n",
       "0.307472663793578⋅x  + 0.136700684308226⋅x  + 1.0⋅x  + 0.287284087704607⋅x  + \n",
       "\n",
       "                                                \n",
       "                                                \n",
       "────────────────────────────────────────────────\n",
       "     2                                          \n",
       "1.0⋅x  + 0.136700684308226⋅x + 0.307472663793578"
      ]
     },
     "execution_count": 14,
     "metadata": {},
     "output_type": "execute_result"
    }
   ],
   "source": [
    "simplify(apart(g))"
   ]
  },
  {
   "cell_type": "code",
   "execution_count": null,
   "metadata": {},
   "outputs": [],
   "source": []
  }
 ],
 "metadata": {
  "kernelspec": {
   "display_name": "Python 3",
   "language": "python",
   "name": "python3"
  },
  "language_info": {
   "codemirror_mode": {
    "name": "ipython",
    "version": 3
   },
   "file_extension": ".py",
   "mimetype": "text/x-python",
   "name": "python",
   "nbconvert_exporter": "python",
   "pygments_lexer": "ipython3",
   "version": "3.6.7"
  }
 },
 "nbformat": 4,
 "nbformat_minor": 2
}
